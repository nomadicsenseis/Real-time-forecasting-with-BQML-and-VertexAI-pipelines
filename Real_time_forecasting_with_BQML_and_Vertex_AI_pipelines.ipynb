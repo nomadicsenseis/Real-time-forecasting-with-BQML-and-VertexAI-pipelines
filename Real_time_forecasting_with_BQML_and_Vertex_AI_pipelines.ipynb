{
  "nbformat": 4,
  "nbformat_minor": 0,
  "metadata": {
    "colab": {
      "provenance": [],
      "toc_visible": true,
      "authorship_tag": "ABX9TyPHhmiGBfOFnXhPU7WpFg1P",
      "include_colab_link": true
    },
    "kernelspec": {
      "name": "python3",
      "display_name": "Python 3"
    },
    "language_info": {
      "name": "python"
    }
  },
  "cells": [
    {
      "cell_type": "markdown",
      "metadata": {
        "id": "view-in-github",
        "colab_type": "text"
      },
      "source": [
        "<a href=\"https://colab.research.google.com/github/nomadicsenseis/Real-time-forecasting-with-BQML-and-VertexAI-pipelines/blob/main/Real_time_forecasting_with_BQML_and_Vertex_AI_pipelines.ipynb\" target=\"_parent\"><img src=\"https://colab.research.google.com/assets/colab-badge.svg\" alt=\"Open In Colab\"/></a>"
      ]
    },
    {
      "cell_type": "markdown",
      "source": [
        "#Introduction\n",
        "In this notebook I will be implementing 3 forecasting pipelines using Vertex AI and Biq Quey ML. The forecast will be done using the NYC bike's rentals public dataset. The different forecast will consist on:\n",
        "\n",
        "1) Simple rentals forecast across the whole city using ARIMA PLUS with no id_column defined (just one model). Therefore, the auto_arima_max_order parameter will be set to 5.\n",
        "\n",
        "2) Multivariate ARIMA_PLUS model forecasting using time_series_id_col = 'start_station_name' (one model for each station in the city). In order to redduce costs (and sacrifying a bit of accuracy) the auto_arima_max_order parameter will be 2 (or 3) this time.\n",
        "\n",
        "3) K-means clustering to segment stations and users and ARIMA_PLUS to forecast withing the clusters. \n",
        "\n",
        "In order to train these models periodically, I make use of VErtex AI pipelines, creating a training, evaluation an plotting components (among other) for each."
      ],
      "metadata": {
        "id": "mK0NT9tGy6xN"
      }
    },
    {
      "cell_type": "markdown",
      "source": [
        "#Before the fun"
      ],
      "metadata": {
        "id": "YvVFM572KE7M"
      }
    },
    {
      "cell_type": "markdown",
      "source": [
        "##Intallations"
      ],
      "metadata": {
        "id": "Ep31Qx-F1LUy"
      }
    },
    {
      "cell_type": "code",
      "execution_count": 19,
      "metadata": {
        "id": "zieCTWUVytjz"
      },
      "outputs": [],
      "source": [
        "import os\n",
        "\n",
        "# The Vertex AI Workbench Notebook product has specific requirements\n",
        "IS_WORKBENCH_NOTEBOOK = os.getenv(\"DL_ANACONDA_HOME\")\n",
        "IS_USER_MANAGED_WORKBENCH_NOTEBOOK = os.path.exists(\n",
        "    \"/opt/deeplearning/metadata/env_version\"\n",
        ")\n",
        "\n",
        "# Vertex AI Notebook requires dependencies to be installed with '--user'\n",
        "USER_FLAG = \"\"\n",
        "if IS_WORKBENCH_NOTEBOOK:\n",
        "    USER_FLAG = \"--user\"\n",
        "    \n",
        "! pip3 install --upgrade \"kfp\" \\\n",
        "                         \"google-cloud-aiplatform\" \\\n",
        "                         \"google_cloud_pipeline_components\" \\\n",
        "                         \"google-cloud-bigquery\" {USER_FLAG} -q\n",
        "\n",
        "! pip3 install --upgrade \"tensorflow<2.8.0\" {USER_FLAG} -q"
      ]
    },
    {
      "cell_type": "code",
      "source": [
        "# Automatically restart kernel after installs\n",
        "import os\n",
        "\n",
        "if not os.getenv(\"IS_TESTING\"):\n",
        "    # Automatically restart kernel after installs\n",
        "    import IPython\n",
        "\n",
        "    app = IPython.Application.instance()\n",
        "    app.kernel.do_shutdown(True)"
      ],
      "metadata": {
        "id": "4WQsINlq1kZ_"
      },
      "execution_count": 20,
      "outputs": []
    },
    {
      "cell_type": "markdown",
      "source": [
        "##GCP connection/authentification"
      ],
      "metadata": {
        "id": "Ah_ccXew2ptK"
      }
    },
    {
      "cell_type": "markdown",
      "source": [
        "###Project"
      ],
      "metadata": {
        "id": "qCyha3Nx3iJN"
      }
    },
    {
      "cell_type": "code",
      "source": [
        "import os\n",
        "\n",
        "PROJECT_ID = \"incentro-spain-projects\"  # @param {type:\"string\"}\n"
      ],
      "metadata": {
        "id": "0Qjo5Ay42uou"
      },
      "execution_count": 1,
      "outputs": []
    },
    {
      "cell_type": "code",
      "source": [
        "! gcloud config set project $PROJECT_ID"
      ],
      "metadata": {
        "colab": {
          "base_uri": "https://localhost:8080/"
        },
        "id": "-eyuTfAJ3TMD",
        "outputId": "c3d539ba-8f87-4237-e98e-deec3076ca52"
      },
      "execution_count": 2,
      "outputs": [
        {
          "output_type": "stream",
          "name": "stdout",
          "text": [
            "Updated property [core/project].\n"
          ]
        }
      ]
    },
    {
      "cell_type": "markdown",
      "source": [
        "###Region"
      ],
      "metadata": {
        "id": "VDb8-pOV3kYg"
      }
    },
    {
      "cell_type": "markdown",
      "source": [
        "1) Americas: \"us-central1\"\n",
        "2) Europe: \"europe-west4\"\n",
        "3) ASia pacific: \"asia-east1\"\n",
        "You may not use a multi-regional bucket for training with Vertex AI. Not all regions provide support for all Vertex AI services. Since my dataset wil be hosted in the US, I will select the Americas region."
      ],
      "metadata": {
        "id": "eO_GaemB3sOZ"
      }
    },
    {
      "cell_type": "code",
      "source": [
        "REGION = \"us-central1\""
      ],
      "metadata": {
        "id": "w6u7GREB3m8S"
      },
      "execution_count": 3,
      "outputs": []
    },
    {
      "cell_type": "markdown",
      "source": [
        "###Authentificate"
      ],
      "metadata": {
        "id": "X4F9PTRW4QEB"
      }
    },
    {
      "cell_type": "code",
      "source": [
        "# If you are running this notebook in Colab, run this cell and follow the\n",
        "# instructions to authenticate your GCP account. This provides access to your\n",
        "# Cloud Storage bucket and lets you submit training jobs and prediction\n",
        "# requests.\n",
        "\n",
        "import os\n",
        "import sys\n",
        "\n",
        "# If on Vertex AI Workbench, then don't execute this code\n",
        "IS_COLAB = \"google.colab\" in sys.modules\n",
        "if not os.path.exists(\"/opt/deeplearning/metadata/env_version\") and not os.getenv(\n",
        "    \"DL_ANACONDA_HOME\"\n",
        "):\n",
        "    if \"google.colab\" in sys.modules:\n",
        "        from google.colab import auth as google_auth\n",
        "\n",
        "        google_auth.authenticate_user()\n",
        "\n",
        "    # If you are running this notebook locally, replace the string below with the\n",
        "    # path to your service account key and run this cell to authenticate your GCP\n",
        "    # account.\n",
        "    elif not os.getenv(\"IS_TESTING\"):\n",
        "        %env GOOGLE_APPLICATION_CREDENTIALS ''"
      ],
      "metadata": {
        "id": "YrmJampZ4TLy"
      },
      "execution_count": 17,
      "outputs": []
    },
    {
      "cell_type": "markdown",
      "source": [
        "##Cloud storage bucket"
      ],
      "metadata": {
        "id": "0kScpXgP40Ke"
      }
    },
    {
      "cell_type": "markdown",
      "source": [
        "If you have already created a bucket for this project:"
      ],
      "metadata": {
        "id": "CghQ7rtd5DPS"
      }
    },
    {
      "cell_type": "code",
      "source": [
        "BUCKET_NAME = \"looker-demo-nyc-bikes\"  # @param {type:\"string\"}\n",
        "BUCKET_URI = f\"gs://{BUCKET_NAME}\""
      ],
      "metadata": {
        "id": "xgXTxEOd431i"
      },
      "execution_count": 5,
      "outputs": []
    },
    {
      "cell_type": "markdown",
      "source": [
        "##Imports"
      ],
      "metadata": {
        "id": "CPUN8kA75KH4"
      }
    },
    {
      "cell_type": "code",
      "source": [
        "from pathlib import Path as path\n",
        "from typing import NamedTuple\n",
        "# General\n",
        "from urllib.parse import urlparse\n",
        "\n",
        "import google.cloud.aiplatform as vertex_ai\n",
        "# Check components\n",
        "import tensorflow as tf\n",
        "# Simulate operations\n",
        "from google.cloud import bigquery\n",
        "# ML pipeline\n",
        "from google_cloud_pipeline_components.v1.bigquery import (\n",
        "    BigqueryCreateModelJobOp, BigqueryEvaluateModelJobOp,\n",
        "    BigqueryExplainForecastModelJobOp, BigqueryForecastModelJobOp,\n",
        "    BigqueryMLArimaEvaluateJobOp, BigqueryQueryJobOp)\n",
        "from kfp.v2 import compiler, dsl\n",
        "from kfp.v2.dsl import HTML, Artifact, Condition, Input, Output, component"
      ],
      "metadata": {
        "id": "FmUR4mps5bLK"
      },
      "execution_count": 6,
      "outputs": []
    },
    {
      "cell_type": "markdown",
      "source": [
        "##Initialize BQ SDK for Python"
      ],
      "metadata": {
        "id": "NtqjqTHQ6wIp"
      }
    },
    {
      "cell_type": "code",
      "source": [
        "bq_client = bigquery.Client(project=PROJECT_ID, location=REGION)"
      ],
      "metadata": {
        "id": "DqD-aAhK64nd"
      },
      "execution_count": 7,
      "outputs": []
    },
    {
      "cell_type": "markdown",
      "source": [
        "##Create local directories"
      ],
      "metadata": {
        "id": "SLGwFR_P66xK"
      }
    },
    {
      "cell_type": "code",
      "source": [
        "DATA_PATH = \"data\"\n",
        "KFP_COMPONENTS_PATH = \"components\"\n",
        "PIPELINES_PATH = \"pipelines\"\n",
        "\n",
        "! mkdir -m 777 -p {DATA_PATH}\n",
        "! mkdir -m 777 -p {KFP_COMPONENTS_PATH}\n",
        "! mkdir -m 777 -p {PIPELINES_PATH}"
      ],
      "metadata": {
        "id": "paHGY3SK66EX"
      },
      "execution_count": 8,
      "outputs": []
    },
    {
      "cell_type": "markdown",
      "source": [
        "#Big Query ML formalization"
      ],
      "metadata": {
        "id": "9_l06yjZ7R5u"
      }
    },
    {
      "cell_type": "markdown",
      "source": [
        "##Set up pipeline variables"
      ],
      "metadata": {
        "id": "rgKOmnOR7fUA"
      }
    },
    {
      "cell_type": "code",
      "source": [
        "# BQML pipeline job configuation\n",
        "PIPELINE_NAME = \"bqml-forecast-pipeline\"\n",
        "PIPELINE_ROOT = urlparse(BUCKET_URI)._replace(path=\"pipeline_root\").geturl()\n",
        "PIPELINE_PACKAGE = str(path(PIPELINES_PATH) / f\"{PIPELINE_NAME}.json\")\n",
        "\n",
        "# BQML pipeline conponent configuration\n",
        "BQ_DATASET = \"Looker_demo_pipeline\"\n",
        "BQ_BIKES_TABLE_PREFIX = \"citibike_trips\"\n",
        "BQ_TRAINING_TABLE_PREFIX = \"bike_trips_training\"\n",
        "BQ_MODEL_TABLE_PREFIX = \"bike_trips_forecast_arima\"\n",
        "BQ_EVALUATE_TS_TABLE_PREFIX = \"bike_trips_arima_time_series_evaluate\"\n",
        "BQ_EVALUATE_MODEL_TABLE_PREFIX = \"bike_trips_arima_model_evaluate\"\n",
        "BQ_FORECAST_TABLE_PREFIX = \"bike_trips_arima_forecast\"\n",
        "BQ_EXPLAIN_FORECAST_TABLE_PREFIX = \"bike_trips_arima_explain_forecast\"\n",
        "BQ_BIKES_TABLE = f\"{BQ_BIKES_TABLE_PREFIX}\"\n",
        "BQ_TRAINING_TABLE = f\"{BQ_TRAINING_TABLE_PREFIX}\"\n",
        "BQ_MODEL_TABLE = f\"{BQ_MODEL_TABLE_PREFIX}\"\n",
        "BQ_EVALUATE_TS_TABLE = f\"{BQ_EVALUATE_TS_TABLE_PREFIX}\"\n",
        "BQ_EVALUATE_MODEL_TABLE = f\"{BQ_EVALUATE_MODEL_TABLE_PREFIX}\"\n",
        "BQ_FORECAST_TABLE = f\"{BQ_FORECAST_TABLE_PREFIX}\"\n",
        "BQ_EXPLAIN_FORECAST_TABLE = f\"{BQ_EXPLAIN_FORECAST_TABLE_PREFIX}\"\n",
        "\n",
        "BQ_TRAIN_CONFIGURATION = {\n",
        "    \"destinationTable\": {\n",
        "        \"projectId\": PROJECT_ID,\n",
        "        \"datasetId\": BQ_DATASET,\n",
        "        \"tableId\": BQ_TRAINING_TABLE,\n",
        "    },\n",
        "    \"writeDisposition\": \"WRITE_TRUNCATE\",\n",
        "}\n",
        "\n",
        "BQ_EVALUATE_TS_CONFIGURATION = {\n",
        "    \"destinationTable\": {\n",
        "        \"projectId\": PROJECT_ID,\n",
        "        \"datasetId\": BQ_DATASET,\n",
        "        \"tableId\": BQ_EVALUATE_TS_TABLE,\n",
        "    },\n",
        "    \"writeDisposition\": \"WRITE_TRUNCATE\",\n",
        "}\n",
        "BQ_EVALUATE_MODEL_CONFIGURATION = {\n",
        "    \"destinationTable\": {\n",
        "        \"projectId\": PROJECT_ID,\n",
        "        \"datasetId\": BQ_DATASET,\n",
        "        \"tableId\": BQ_EVALUATE_MODEL_TABLE,\n",
        "    },\n",
        "    \"writeDisposition\": \"WRITE_TRUNCATE\",\n",
        "}\n",
        "BQ_FORECAST_CONFIGURATION = {\n",
        "    \"destinationTable\": {\n",
        "        \"projectId\": PROJECT_ID,\n",
        "        \"datasetId\": BQ_DATASET,\n",
        "        \"tableId\": BQ_FORECAST_TABLE,\n",
        "    },\n",
        "    \"writeDisposition\": \"WRITE_TRUNCATE\",\n",
        "}\n",
        "BQ_EXPLAIN_FORECAST_CONFIGURATION = {\n",
        "    \"destinationTable\": {\n",
        "        \"projectId\": PROJECT_ID,\n",
        "        \"datasetId\": BQ_DATASET,\n",
        "        \"tableId\": BQ_EXPLAIN_FORECAST_TABLE,\n",
        "    },\n",
        "    \"writeDisposition\": \"WRITE_TRUNCATE\",\n",
        "}\n",
        "PERF_THRESHOLD = 3000"
      ],
      "metadata": {
        "id": "fPANbT207VMG"
      },
      "execution_count": 9,
      "outputs": []
    },
    {
      "cell_type": "markdown",
      "source": [
        "##Create location for storing YAML component definitions"
      ],
      "metadata": {
        "id": "KWAPBiAB8tn_"
      }
    },
    {
      "cell_type": "code",
      "source": [
        "! mkdir -m 777 -p {KFP_COMPONENTS_PATH}/custom_components"
      ],
      "metadata": {
        "id": "BTmO39Qf83kG"
      },
      "execution_count": 10,
      "outputs": []
    },
    {
      "cell_type": "markdown",
      "source": [
        "#Components"
      ],
      "metadata": {
        "id": "nyYfs3dnKTLT"
      }
    },
    {
      "cell_type": "markdown",
      "source": [
        "##Create custom component to read model evaluation metrics"
      ],
      "metadata": {
        "id": "uVNyW8vv88qB"
      }
    },
    {
      "cell_type": "markdown",
      "source": [
        "Build a custom component to consume model evaluation metrics for visualizations in the Vertex AI Pipelines UI using Kubeflow SDK visualization APIs. Indeed, Vertex AI allows you to render that HTML in an output page which is easily accessible from the Google Cloud console."
      ],
      "metadata": {
        "id": "tmB_JpJu9Qji"
      }
    },
    {
      "cell_type": "code",
      "source": [
        "@component(\n",
        "    base_image=\"python:3.8-slim\",\n",
        "    packages_to_install=[\"jinja2\", \"pandas\", \"matplotlib\"],\n",
        "    output_component_file=f\"{KFP_COMPONENTS_PATH}/custom_components/build_bq_evaluate_metrics.yaml\",\n",
        ")\n",
        "def get_model_evaluation_metrics(\n",
        "    metrics_in: Input[Artifact], metrics_out: Output[HTML]\n",
        ") -> NamedTuple(\"Outputs\", [(\"avg_mean_absolute_error\", float)]):\n",
        "    \"\"\"\n",
        "    Get the average mean absolute error from the metrics\n",
        "    Args:\n",
        "        metrics_in: metrics artifact\n",
        "        metrics_out: metrics artifact\n",
        "    Returns:\n",
        "        avg_mean_absolute_error: average mean absolute error\n",
        "    \"\"\"\n",
        "\n",
        "    import pandas as pd\n",
        "\n",
        "    # Helpers\n",
        "    def prettyfier(styler):\n",
        "        \"\"\"\n",
        "        Helper function to prettify the metrics table.\n",
        "        Args:\n",
        "            styler: Styler object\n",
        "        Returns:\n",
        "            Styler object\n",
        "        \"\"\"\n",
        "        caption = {\n",
        "            \"selector\": \"caption\",\n",
        "            \"props\": [\n",
        "                (\"caption-side\", \"top\"),\n",
        "                (\"font-size\", \"150%\"),\n",
        "                (\"font-weight\", \"bold\"),\n",
        "                (\"font-family\", \"arial\"),\n",
        "            ],\n",
        "        }\n",
        "        headers = {\n",
        "            \"selector\": \"th\",\n",
        "            \"props\": [(\"color\", \"black\"), (\"font-family\", \"arial\")],\n",
        "        }\n",
        "        rows = {\n",
        "            \"selector\": \"td\",\n",
        "            \"props\": [(\"text-align\", \"center\"), (\"font-family\", \"arial\")],\n",
        "        }\n",
        "        styler.set_table_styles([caption, headers, rows])\n",
        "        styler.set_caption(\"Forecasting accuracy report \")\n",
        "        styler.hide(axis=\"index\")\n",
        "        styler.format(precision=2)\n",
        "        styler.background_gradient(cmap=\"Blues\")\n",
        "        return styler\n",
        "\n",
        "    def get_column_names(header):\n",
        "        \"\"\"\n",
        "        Helper function to get the column names from the metrics table.\n",
        "        Args:\n",
        "            header: header\n",
        "        Returns:\n",
        "            column_names: column names\n",
        "        \"\"\"\n",
        "        header_clean = header.replace(\"_\", \" \")\n",
        "        header_abbrev = \"\".join([h[0].upper() for h in header_clean.split()])\n",
        "        header_prettied = f\"{header_clean} ({header_abbrev})\"\n",
        "        return header_prettied\n",
        "\n",
        "    # Extract rows and schema from metrics artifact\n",
        "    rows = metrics_in.metadata[\"rows\"]\n",
        "    schema = metrics_in.metadata[\"schema\"]\n",
        "\n",
        "    # Convert into a tabular format\n",
        "    columns = [metrics[\"name\"] for metrics in schema[\"fields\"] if \"name\" in metrics]\n",
        "    records = []\n",
        "    for row in rows:\n",
        "        records.append([dl[\"v\"] for dl in row[\"f\"]])\n",
        "    metrics = (\n",
        "        pd.DataFrame.from_records(records, columns=columns, index=\"product_name\")\n",
        "        .astype(float)\n",
        "        .round(3)\n",
        "    )\n",
        "    metrics = metrics.reset_index()\n",
        "\n",
        "    # Create the HTML artifact for the metrics\n",
        "    pretty_columns = list(\n",
        "        map(\n",
        "            lambda h: get_column_names(h)\n",
        "            if h != columns[0]\n",
        "            else h.replace(\"_\", \" \").capitalize(),\n",
        "            columns,\n",
        "        )\n",
        "    )\n",
        "    pretty_metrics = metrics.copy()\n",
        "    pretty_metrics.columns = pretty_columns\n",
        "    html_metrics = pretty_metrics.style.pipe(prettyfier).to_html()\n",
        "    with open(metrics_out.path, \"w\") as f:\n",
        "        f.write(html_metrics)\n",
        "\n",
        "    # Create metrics dictionary for the model\n",
        "    avg_mean_absolute_error = round(float(metrics.mean_absolute_error.mean()), 0)\n",
        "    component_outputs = NamedTuple(\"Outputs\", [(\"avg_mean_absolute_error\", float)])\n",
        "\n",
        "    return component_outputs(avg_mean_absolute_error)\n",
        "\n"
      ],
      "metadata": {
        "id": "K1P9aMO987Te"
      },
      "execution_count": 11,
      "outputs": []
    },
    {
      "cell_type": "markdown",
      "source": [
        "#Create pipeline"
      ],
      "metadata": {
        "id": "VzZOlgR4BB14"
      }
    },
    {
      "cell_type": "code",
      "source": [
        "\n",
        "@dsl.pipeline(\n",
        "    name=PIPELINE_NAME,\n",
        "    description=\"A batch pipeline to train ARIMA PLUS using BQML\",\n",
        ")\n",
        "def pipeline(\n",
        "    bq_dataset: str = BQ_DATASET,\n",
        "    bq_bikes_table: str = BQ_BIKES_TABLE,\n",
        "    bq_training_table: str = BQ_TRAINING_TABLE,\n",
        "    bq_train_configuration: dict = BQ_TRAIN_CONFIGURATION,\n",
        "    bq_model_table: str = BQ_MODEL_TABLE,\n",
        "    bq_evaluate_time_series_configuration: dict = BQ_EVALUATE_TS_CONFIGURATION,\n",
        "    bq_evaluate_model_configuration: dict = BQ_EVALUATE_MODEL_CONFIGURATION,\n",
        "    performance_threshold: float = PERF_THRESHOLD,\n",
        "    bq_forecast_configuration: dict = BQ_FORECAST_CONFIGURATION,\n",
        "    bq_explain_forecast_configuration: dict = BQ_EXPLAIN_FORECAST_CONFIGURATION,\n",
        "    project: str = PROJECT_ID,\n",
        "    location: str = REGION.split('-')[0],\n",
        "):\n",
        "\n",
        "    # Create the training dataset\n",
        "    create_training_dataset_op = BigqueryQueryJobOp(\n",
        "        query=f\"\"\"\n",
        "        -- create the training table\n",
        "        WITH \n",
        "        -- get 90% percentile for time series splitting\n",
        "        get_split AS (\n",
        "          SELECT APPROX_QUANTILES(DATETIME_TRUNC(starttime, DAY), 100)[OFFSET(90)] as split\n",
        "          FROM `{project}.{bq_dataset}.{bq_bikes_table}`\n",
        "        ),\n",
        "        -- get train table\n",
        "        get_train AS (\n",
        "          SELECT\n",
        "            DATETIME_TRUNC(starttime, DAY) as hourly_timestamp,\n",
        "            start_station_name,\n",
        "            COUNT(*) AS rentals,\n",
        "            FROM `{project}.{bq_dataset}.{bq_bikes_table}`\n",
        "        GROUP BY hourly_timestamp, start_station_name\n",
        "        )\n",
        "        SELECT\n",
        "          *,\n",
        "          CASE WHEN hourly_timestamp < (SELECT split FROM get_split) THEN 'TRAIN' ELSE 'TEST' END AS split\n",
        "        FROM get_train\n",
        "        ORDER BY hourly_timestamp\n",
        "        \"\"\",\n",
        "        job_configuration_query=bq_train_configuration,\n",
        "        project=project,\n",
        "        location=location,\n",
        "    ).set_display_name(\"get train data\")\n",
        "\n",
        "    # Run an ARIMA PLUS experiment\n",
        "    bq_arima_model_exp_op = (\n",
        "        BigqueryCreateModelJobOp(\n",
        "            query=f\"\"\"\n",
        "        -- create model table\n",
        "        CREATE OR REPLACE MODEL `{project}.{bq_dataset}.{bq_model_table}`\n",
        "        OPTIONS(\n",
        "        MODEL_TYPE = \\'ARIMA_PLUS\\',\n",
        "        TIME_SERIES_TIMESTAMP_COL = \\'hourly_timestamp\\',\n",
        "        TIME_SERIES_DATA_COL = \\'rentals\\',\n",
        "        TIME_SERIES_ID_COL = [\\'start_station_name\\'],\n",
        "        AUTO_ARIMA_MAX_ORDER=2\n",
        "        ) AS\n",
        "        SELECT\n",
        "          hourly_timestamp,\n",
        "          start_station_name,\n",
        "          rentals\n",
        "        FROM `{project}.{bq_dataset}.{bq_training_table}`\n",
        "        WHERE split='TRAIN';\n",
        "        \"\"\",\n",
        "            project=project,\n",
        "            location=location,\n",
        "        )\n",
        "        .set_display_name(\"run arima+ model experiment\")\n",
        "        .after(create_training_dataset_op)\n",
        "    )\n",
        "\n",
        "    # Evaluate ARIMA PLUS time series\n",
        "    _ = (\n",
        "        BigqueryMLArimaEvaluateJobOp(\n",
        "            project=project,\n",
        "            location=location,\n",
        "            model=bq_arima_model_exp_op.outputs[\"model\"],\n",
        "            show_all_candidate_models=False,\n",
        "            job_configuration_query=bq_evaluate_time_series_configuration,\n",
        "        )\n",
        "        .set_display_name(\"evaluate arima plus time series\")\n",
        "        .after(bq_arima_model_exp_op)\n",
        "    )\n",
        "\n",
        "    # Evaluate ARIMA Plus model\n",
        "    bq_arima_evaluate_model_op = (\n",
        "        BigqueryEvaluateModelJobOp(\n",
        "            project=project,\n",
        "            location=location,\n",
        "            model=bq_arima_model_exp_op.outputs[\"model\"],\n",
        "            query_statement=f\"\"\"SELECT * FROM `{project}.{bq_dataset}.{bq_training_table}` WHERE split='TEST'\"\"\",\n",
        "            job_configuration_query=bq_evaluate_model_configuration,\n",
        "        )\n",
        "        .set_display_name(\"evaluate arima plus model\")\n",
        "        .after(bq_arima_model_exp_op)\n",
        "    )\n",
        "\n",
        "    # Plot model metrics\n",
        "    get_evaluation_model_metrics_op = (\n",
        "        get_model_evaluation_metrics(\n",
        "            bq_arima_evaluate_model_op.outputs[\"evaluation_metrics\"]\n",
        "        )\n",
        "        .after(bq_arima_evaluate_model_op)\n",
        "        .set_display_name(\"plot evaluation metrics\")\n",
        "    )\n",
        "\n",
        "    # Check the model performance. If ARIMA_PLUS average MAE metric is below to a minimal threshold\n",
        "    with Condition(\n",
        "        get_evaluation_model_metrics_op.outputs[\"avg_mean_absolute_error\"]\n",
        "        < PERF_THRESHOLD,\n",
        "        name=\"avg. mae good\",\n",
        "    ):\n",
        "        # Train the ARIMA PLUS model\n",
        "        bq_arima_model_op = (\n",
        "            BigqueryCreateModelJobOp(\n",
        "                query=f\"\"\"\n",
        "        -- create model table\n",
        "        CREATE OR REPLACE MODEL `{project}.{bq_dataset}.{bq_model_table}`\n",
        "        OPTIONS(\n",
        "        MODEL_TYPE = \\'ARIMA_PLUS\\',\n",
        "        TIME_SERIES_TIMESTAMP_COL = \\'hourly_timestamp\\',\n",
        "        TIME_SERIES_DATA_COL = \\'rentals\\',\n",
        "        TIME_SERIES_ID_COL = [\\'start_station_name\\'],\n",
        "        AUTO_ARIMA_MAX_ORDER=2,\n",
        "        MODEL_REGISTRY = \\'vertex_ai\\',\n",
        "        VERTEX_AI_MODEL_ID = \\'rentals_demand_forecasting\\',\n",
        "        VERTEX_AI_MODEL_VERSION_ALIASES = [\\'staging\\']\n",
        "        ) AS\n",
        "        SELECT\n",
        "          DATETIME_TRUNC(starttime, DAY) as hourly_timestamp,\n",
        "          start_station_name,\n",
        "          COUNT(*) AS rentals,\n",
        "          FROM `{project}.{bq_dataset}.{bq_bikes_table}`\n",
        "        GROUP BY hourly_timestamp, start_station_name;\n",
        "        \"\"\",\n",
        "                project=project,\n",
        "                location=location,\n",
        "            )\n",
        "            .set_display_name(\"train arima+ model\")\n",
        "            .after(get_evaluation_model_metrics_op)\n",
        "        )\n",
        "\n",
        "        # Generate the ARIMA PLUS forecasts\n",
        "        bq_arima_forecast_op = (\n",
        "            BigqueryForecastModelJobOp(\n",
        "                project=project,\n",
        "                location=location,\n",
        "                model=bq_arima_model_op.outputs[\"model\"],\n",
        "                horizon=1,  # 1 hour\n",
        "                confidence_level=0.9,\n",
        "                job_configuration_query=bq_forecast_configuration,\n",
        "            )\n",
        "            .set_display_name(\"generate hourly forecasts\")\n",
        "            .after(get_evaluation_model_metrics_op)\n",
        "        )\n",
        "\n",
        "        # Generate the ARIMA PLUS forecast explainations\n",
        "        _ = (\n",
        "            BigqueryExplainForecastModelJobOp(\n",
        "                project=project,\n",
        "                location=location,\n",
        "                model=bq_arima_model_op.outputs[\"model\"],\n",
        "                horizon=1,  # 1 hour\n",
        "                confidence_level=0.9,\n",
        "                job_configuration_query=bq_explain_forecast_configuration,\n",
        "            )\n",
        "            .set_display_name(\"explain hourly forecasts\")\n",
        "            .after(bq_arima_forecast_op)\n",
        "        )"
      ],
      "metadata": {
        "id": "4kw-zFejBCVC"
      },
      "execution_count": 47,
      "outputs": []
    },
    {
      "cell_type": "code",
      "source": [
        "compiler.Compiler().compile(pipeline_func=pipeline, package_path=PIPELINE_PACKAGE)"
      ],
      "metadata": {
        "id": "m0hNKG9ZEiBp"
      },
      "execution_count": 48,
      "outputs": []
    },
    {
      "cell_type": "code",
      "source": [
        "bqml_pipeline = vertex_ai.PipelineJob(\n",
        "    display_name=f\"{PIPELINE_NAME}-job\",\n",
        "    template_path=PIPELINE_PACKAGE,\n",
        "    pipeline_root=PIPELINE_ROOT,\n",
        "    enable_caching=False,    \n",
        "    project=PROJECT_ID,\n",
        ")\n",
        "\n",
        "bqml_pipeline.run()"
      ],
      "metadata": {
        "colab": {
          "base_uri": "https://localhost:8080/",
          "height": 1000
        },
        "id": "-KpSst8UEoNM",
        "outputId": "209202f2-7d08-4bf5-e10b-7771631ca165"
      },
      "execution_count": 49,
      "outputs": [
        {
          "output_type": "stream",
          "name": "stdout",
          "text": [
            "Creating PipelineJob\n"
          ]
        },
        {
          "output_type": "stream",
          "name": "stderr",
          "text": [
            "INFO:google.cloud.aiplatform.pipeline_jobs:Creating PipelineJob\n"
          ]
        },
        {
          "output_type": "stream",
          "name": "stdout",
          "text": [
            "PipelineJob created. Resource name: projects/126752948276/locations/us-central1/pipelineJobs/bqml-forecast-pipeline-20230227121854\n"
          ]
        },
        {
          "output_type": "stream",
          "name": "stderr",
          "text": [
            "INFO:google.cloud.aiplatform.pipeline_jobs:PipelineJob created. Resource name: projects/126752948276/locations/us-central1/pipelineJobs/bqml-forecast-pipeline-20230227121854\n"
          ]
        },
        {
          "output_type": "stream",
          "name": "stdout",
          "text": [
            "To use this PipelineJob in another session:\n"
          ]
        },
        {
          "output_type": "stream",
          "name": "stderr",
          "text": [
            "INFO:google.cloud.aiplatform.pipeline_jobs:To use this PipelineJob in another session:\n"
          ]
        },
        {
          "output_type": "stream",
          "name": "stdout",
          "text": [
            "pipeline_job = aiplatform.PipelineJob.get('projects/126752948276/locations/us-central1/pipelineJobs/bqml-forecast-pipeline-20230227121854')\n"
          ]
        },
        {
          "output_type": "stream",
          "name": "stderr",
          "text": [
            "INFO:google.cloud.aiplatform.pipeline_jobs:pipeline_job = aiplatform.PipelineJob.get('projects/126752948276/locations/us-central1/pipelineJobs/bqml-forecast-pipeline-20230227121854')\n"
          ]
        },
        {
          "output_type": "stream",
          "name": "stdout",
          "text": [
            "View Pipeline Job:\n",
            "https://console.cloud.google.com/vertex-ai/locations/us-central1/pipelines/runs/bqml-forecast-pipeline-20230227121854?project=126752948276\n"
          ]
        },
        {
          "output_type": "stream",
          "name": "stderr",
          "text": [
            "INFO:google.cloud.aiplatform.pipeline_jobs:View Pipeline Job:\n",
            "https://console.cloud.google.com/vertex-ai/locations/us-central1/pipelines/runs/bqml-forecast-pipeline-20230227121854?project=126752948276\n"
          ]
        },
        {
          "output_type": "stream",
          "name": "stdout",
          "text": [
            "PipelineJob projects/126752948276/locations/us-central1/pipelineJobs/bqml-forecast-pipeline-20230227121854 current state:\n",
            "PipelineState.PIPELINE_STATE_RUNNING\n"
          ]
        },
        {
          "output_type": "stream",
          "name": "stderr",
          "text": [
            "INFO:google.cloud.aiplatform.pipeline_jobs:PipelineJob projects/126752948276/locations/us-central1/pipelineJobs/bqml-forecast-pipeline-20230227121854 current state:\n",
            "PipelineState.PIPELINE_STATE_RUNNING\n"
          ]
        },
        {
          "output_type": "stream",
          "name": "stdout",
          "text": [
            "PipelineJob projects/126752948276/locations/us-central1/pipelineJobs/bqml-forecast-pipeline-20230227121854 current state:\n",
            "PipelineState.PIPELINE_STATE_RUNNING\n"
          ]
        },
        {
          "output_type": "stream",
          "name": "stderr",
          "text": [
            "INFO:google.cloud.aiplatform.pipeline_jobs:PipelineJob projects/126752948276/locations/us-central1/pipelineJobs/bqml-forecast-pipeline-20230227121854 current state:\n",
            "PipelineState.PIPELINE_STATE_RUNNING\n"
          ]
        },
        {
          "output_type": "stream",
          "name": "stdout",
          "text": [
            "PipelineJob projects/126752948276/locations/us-central1/pipelineJobs/bqml-forecast-pipeline-20230227121854 current state:\n",
            "PipelineState.PIPELINE_STATE_RUNNING\n"
          ]
        },
        {
          "output_type": "stream",
          "name": "stderr",
          "text": [
            "INFO:google.cloud.aiplatform.pipeline_jobs:PipelineJob projects/126752948276/locations/us-central1/pipelineJobs/bqml-forecast-pipeline-20230227121854 current state:\n",
            "PipelineState.PIPELINE_STATE_RUNNING\n"
          ]
        },
        {
          "output_type": "stream",
          "name": "stdout",
          "text": [
            "PipelineJob projects/126752948276/locations/us-central1/pipelineJobs/bqml-forecast-pipeline-20230227121854 current state:\n",
            "PipelineState.PIPELINE_STATE_RUNNING\n"
          ]
        },
        {
          "output_type": "stream",
          "name": "stderr",
          "text": [
            "INFO:google.cloud.aiplatform.pipeline_jobs:PipelineJob projects/126752948276/locations/us-central1/pipelineJobs/bqml-forecast-pipeline-20230227121854 current state:\n",
            "PipelineState.PIPELINE_STATE_RUNNING\n"
          ]
        },
        {
          "output_type": "stream",
          "name": "stdout",
          "text": [
            "PipelineJob projects/126752948276/locations/us-central1/pipelineJobs/bqml-forecast-pipeline-20230227121854 current state:\n",
            "PipelineState.PIPELINE_STATE_RUNNING\n"
          ]
        },
        {
          "output_type": "stream",
          "name": "stderr",
          "text": [
            "INFO:google.cloud.aiplatform.pipeline_jobs:PipelineJob projects/126752948276/locations/us-central1/pipelineJobs/bqml-forecast-pipeline-20230227121854 current state:\n",
            "PipelineState.PIPELINE_STATE_RUNNING\n"
          ]
        },
        {
          "output_type": "stream",
          "name": "stdout",
          "text": [
            "PipelineJob projects/126752948276/locations/us-central1/pipelineJobs/bqml-forecast-pipeline-20230227121854 current state:\n",
            "PipelineState.PIPELINE_STATE_RUNNING\n"
          ]
        },
        {
          "output_type": "stream",
          "name": "stderr",
          "text": [
            "INFO:google.cloud.aiplatform.pipeline_jobs:PipelineJob projects/126752948276/locations/us-central1/pipelineJobs/bqml-forecast-pipeline-20230227121854 current state:\n",
            "PipelineState.PIPELINE_STATE_RUNNING\n"
          ]
        },
        {
          "output_type": "error",
          "ename": "RuntimeError",
          "evalue": "ignored",
          "traceback": [
            "\u001b[0;31m---------------------------------------------------------------------------\u001b[0m",
            "\u001b[0;31mRuntimeError\u001b[0m                              Traceback (most recent call last)",
            "\u001b[0;32m<ipython-input-49-019d2ad031cc>\u001b[0m in \u001b[0;36m<module>\u001b[0;34m\u001b[0m\n\u001b[1;32m      7\u001b[0m )\n\u001b[1;32m      8\u001b[0m \u001b[0;34m\u001b[0m\u001b[0m\n\u001b[0;32m----> 9\u001b[0;31m \u001b[0mbqml_pipeline\u001b[0m\u001b[0;34m.\u001b[0m\u001b[0mrun\u001b[0m\u001b[0;34m(\u001b[0m\u001b[0;34m)\u001b[0m\u001b[0;34m\u001b[0m\u001b[0;34m\u001b[0m\u001b[0m\n\u001b[0m",
            "\u001b[0;32m/usr/local/lib/python3.8/dist-packages/google/cloud/aiplatform/pipeline_jobs.py\u001b[0m in \u001b[0;36mrun\u001b[0;34m(self, service_account, network, sync, create_request_timeout)\u001b[0m\n\u001b[1;32m    312\u001b[0m         \u001b[0mnetwork\u001b[0m \u001b[0;34m=\u001b[0m \u001b[0mnetwork\u001b[0m \u001b[0;32mor\u001b[0m \u001b[0minitializer\u001b[0m\u001b[0;34m.\u001b[0m\u001b[0mglobal_config\u001b[0m\u001b[0;34m.\u001b[0m\u001b[0mnetwork\u001b[0m\u001b[0;34m\u001b[0m\u001b[0;34m\u001b[0m\u001b[0m\n\u001b[1;32m    313\u001b[0m \u001b[0;34m\u001b[0m\u001b[0m\n\u001b[0;32m--> 314\u001b[0;31m         self._run(\n\u001b[0m\u001b[1;32m    315\u001b[0m             \u001b[0mservice_account\u001b[0m\u001b[0;34m=\u001b[0m\u001b[0mservice_account\u001b[0m\u001b[0;34m,\u001b[0m\u001b[0;34m\u001b[0m\u001b[0;34m\u001b[0m\u001b[0m\n\u001b[1;32m    316\u001b[0m             \u001b[0mnetwork\u001b[0m\u001b[0;34m=\u001b[0m\u001b[0mnetwork\u001b[0m\u001b[0;34m,\u001b[0m\u001b[0;34m\u001b[0m\u001b[0;34m\u001b[0m\u001b[0m\n",
            "\u001b[0;32m/usr/local/lib/python3.8/dist-packages/google/cloud/aiplatform/base.py\u001b[0m in \u001b[0;36mwrapper\u001b[0;34m(*args, **kwargs)\u001b[0m\n\u001b[1;32m    808\u001b[0m                 \u001b[0;32mif\u001b[0m \u001b[0mself\u001b[0m\u001b[0;34m:\u001b[0m\u001b[0;34m\u001b[0m\u001b[0;34m\u001b[0m\u001b[0m\n\u001b[1;32m    809\u001b[0m                     \u001b[0mVertexAiResourceNounWithFutureManager\u001b[0m\u001b[0;34m.\u001b[0m\u001b[0mwait\u001b[0m\u001b[0;34m(\u001b[0m\u001b[0mself\u001b[0m\u001b[0;34m)\u001b[0m\u001b[0;34m\u001b[0m\u001b[0;34m\u001b[0m\u001b[0m\n\u001b[0;32m--> 810\u001b[0;31m                 \u001b[0;32mreturn\u001b[0m \u001b[0mmethod\u001b[0m\u001b[0;34m(\u001b[0m\u001b[0;34m*\u001b[0m\u001b[0margs\u001b[0m\u001b[0;34m,\u001b[0m \u001b[0;34m**\u001b[0m\u001b[0mkwargs\u001b[0m\u001b[0;34m)\u001b[0m\u001b[0;34m\u001b[0m\u001b[0;34m\u001b[0m\u001b[0m\n\u001b[0m\u001b[1;32m    811\u001b[0m \u001b[0;34m\u001b[0m\u001b[0m\n\u001b[1;32m    812\u001b[0m             \u001b[0;31m# callbacks to call within the Future (in same Thread)\u001b[0m\u001b[0;34m\u001b[0m\u001b[0;34m\u001b[0m\u001b[0;34m\u001b[0m\u001b[0m\n",
            "\u001b[0;32m/usr/local/lib/python3.8/dist-packages/google/cloud/aiplatform/pipeline_jobs.py\u001b[0m in \u001b[0;36m_run\u001b[0;34m(self, service_account, network, sync, create_request_timeout)\u001b[0m\n\u001b[1;32m    349\u001b[0m         )\n\u001b[1;32m    350\u001b[0m \u001b[0;34m\u001b[0m\u001b[0m\n\u001b[0;32m--> 351\u001b[0;31m         \u001b[0mself\u001b[0m\u001b[0;34m.\u001b[0m\u001b[0m_block_until_complete\u001b[0m\u001b[0;34m(\u001b[0m\u001b[0;34m)\u001b[0m\u001b[0;34m\u001b[0m\u001b[0;34m\u001b[0m\u001b[0m\n\u001b[0m\u001b[1;32m    352\u001b[0m \u001b[0;34m\u001b[0m\u001b[0m\n\u001b[1;32m    353\u001b[0m     def submit(\n",
            "\u001b[0;32m/usr/local/lib/python3.8/dist-packages/google/cloud/aiplatform/pipeline_jobs.py\u001b[0m in \u001b[0;36m_block_until_complete\u001b[0;34m(self)\u001b[0m\n\u001b[1;32m    497\u001b[0m         \u001b[0;31m# JOB_STATE_FAILED or JOB_STATE_CANCELLED.\u001b[0m\u001b[0;34m\u001b[0m\u001b[0;34m\u001b[0m\u001b[0;34m\u001b[0m\u001b[0m\n\u001b[1;32m    498\u001b[0m         \u001b[0;32mif\u001b[0m \u001b[0mself\u001b[0m\u001b[0;34m.\u001b[0m\u001b[0m_gca_resource\u001b[0m\u001b[0;34m.\u001b[0m\u001b[0mstate\u001b[0m \u001b[0;32min\u001b[0m \u001b[0m_PIPELINE_ERROR_STATES\u001b[0m\u001b[0;34m:\u001b[0m\u001b[0;34m\u001b[0m\u001b[0;34m\u001b[0m\u001b[0m\n\u001b[0;32m--> 499\u001b[0;31m             \u001b[0;32mraise\u001b[0m \u001b[0mRuntimeError\u001b[0m\u001b[0;34m(\u001b[0m\u001b[0;34m\"Job failed with:\\n%s\"\u001b[0m \u001b[0;34m%\u001b[0m \u001b[0mself\u001b[0m\u001b[0;34m.\u001b[0m\u001b[0m_gca_resource\u001b[0m\u001b[0;34m.\u001b[0m\u001b[0merror\u001b[0m\u001b[0;34m)\u001b[0m\u001b[0;34m\u001b[0m\u001b[0;34m\u001b[0m\u001b[0m\n\u001b[0m\u001b[1;32m    500\u001b[0m         \u001b[0;32melse\u001b[0m\u001b[0;34m:\u001b[0m\u001b[0;34m\u001b[0m\u001b[0;34m\u001b[0m\u001b[0m\n\u001b[1;32m    501\u001b[0m             \u001b[0m_LOGGER\u001b[0m\u001b[0;34m.\u001b[0m\u001b[0mlog_action_completed_against_resource\u001b[0m\u001b[0;34m(\u001b[0m\u001b[0;34m\"run\"\u001b[0m\u001b[0;34m,\u001b[0m \u001b[0;34m\"completed\"\u001b[0m\u001b[0;34m,\u001b[0m \u001b[0mself\u001b[0m\u001b[0;34m)\u001b[0m\u001b[0;34m\u001b[0m\u001b[0;34m\u001b[0m\u001b[0m\n",
            "\u001b[0;31mRuntimeError\u001b[0m: Job failed with:\ncode: 9\nmessage: \"The DAG failed because some tasks failed. The failed tasks are: [bigquery-ml-arima-evaluate-job, bigquery-evaluate-model-job].; Job (project_id = incentro-spain-projects, job_id = 2343671157011513344) is failed due to the above error.; Failed to handle the job: {project_number = 126752948276, job_id = 2343671157011513344}\"\n"
          ]
        }
      ]
    }
  ]
}