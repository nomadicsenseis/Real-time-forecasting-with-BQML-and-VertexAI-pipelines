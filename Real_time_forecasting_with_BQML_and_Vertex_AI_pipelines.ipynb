{
  "cells": [
    {
      "cell_type": "markdown",
      "metadata": {
        "id": "view-in-github",
        "colab_type": "text"
      },
      "source": [
        "<a href=\"https://colab.research.google.com/github/nomadicsenseis/Real-time-forecasting-with-BQML-and-VertexAI-pipelines/blob/main/Real_time_forecasting_with_BQML_and_Vertex_AI_pipelines.ipynb\" target=\"_parent\"><img src=\"https://colab.research.google.com/assets/colab-badge.svg\" alt=\"Open In Colab\"/></a>"
      ]
    },
    {
      "cell_type": "markdown",
      "metadata": {
        "id": "mK0NT9tGy6xN"
      },
      "source": [
        "#Introduction\n",
        "In this notebook I will be implementing 3 forecasting pipelines using Vertex AI and Biq Quey ML. The forecast will be done using the NYC bike's rentals public dataset. The different forecast will consist on:\n",
        "\n",
        "1) Simple rentals forecast across the whole city using ARIMA PLUS with no id_column defined (just one model). Therefore, the auto_arima_max_order parameter will be set to 5.\n",
        "\n",
        "2) Multivariate ARIMA_PLUS model forecasting using time_series_id_col = 'start_station_name' (one model for each station in the city). In order to redduce costs (and sacrifying a bit of accuracy) the auto_arima_max_order parameter will be 2 (or 3) this time.\n",
        "\n",
        "3) K-means clustering to segment stations and users and ARIMA_PLUS to forecast withing the clusters. \n",
        "\n",
        "In order to train these models periodically, I make use of VErtex AI pipelines, creating a training, evaluation an plotting components (among other) for each."
      ]
    },
    {
      "cell_type": "markdown",
      "metadata": {
        "id": "YvVFM572KE7M"
      },
      "source": [
        "#Before the fun"
      ]
    },
    {
      "cell_type": "markdown",
      "metadata": {
        "id": "Ep31Qx-F1LUy"
      },
      "source": [
        "##Intallations"
      ]
    },
    {
      "cell_type": "code",
      "execution_count": 22,
      "metadata": {
        "id": "zieCTWUVytjz"
      },
      "outputs": [],
      "source": [
        "import os\n",
        "\n",
        "# The Vertex AI Workbench Notebook product has specific requirements\n",
        "IS_WORKBENCH_NOTEBOOK = os.getenv(\"DL_ANACONDA_HOME\")\n",
        "IS_USER_MANAGED_WORKBENCH_NOTEBOOK = os.path.exists(\n",
        "    \"/opt/deeplearning/metadata/env_version\"\n",
        ")\n",
        "\n",
        "# Vertex AI Notebook requires dependencies to be installed with '--user'\n",
        "USER_FLAG = \"\"\n",
        "if IS_WORKBENCH_NOTEBOOK:\n",
        "    USER_FLAG = \"--user\"\n",
        "    \n",
        "! pip3 install --upgrade \"kfp\" \\\n",
        "                         \"google-cloud-aiplatform\" \\\n",
        "                         \"google_cloud_pipeline_components\" \\\n",
        "                         \"google-cloud-bigquery\" {USER_FLAG} -q\n",
        "\n",
        "! pip3 install --upgrade \"tensorflow<2.8.0\" {USER_FLAG} -q"
      ]
    },
    {
      "cell_type": "code",
      "execution_count": 23,
      "metadata": {
        "id": "4WQsINlq1kZ_"
      },
      "outputs": [],
      "source": [
        "# Automatically restart kernel after installs\n",
        "import os\n",
        "\n",
        "if not os.getenv(\"IS_TESTING\"):\n",
        "    # Automatically restart kernel after installs\n",
        "    import IPython\n",
        "\n",
        "    app = IPython.Application.instance()\n",
        "    app.kernel.do_shutdown(True)"
      ]
    },
    {
      "cell_type": "markdown",
      "metadata": {
        "id": "Ah_ccXew2ptK"
      },
      "source": [
        "##GCP connection/authentification"
      ]
    },
    {
      "cell_type": "markdown",
      "metadata": {
        "id": "qCyha3Nx3iJN"
      },
      "source": [
        "###Project"
      ]
    },
    {
      "cell_type": "code",
      "execution_count": 1,
      "metadata": {
        "id": "0Qjo5Ay42uou"
      },
      "outputs": [],
      "source": [
        "import os\n",
        "\n",
        "PROJECT_ID = \"incentro-spain-projects\"  # @param {type:\"string\"}\n"
      ]
    },
    {
      "cell_type": "code",
      "execution_count": 2,
      "metadata": {
        "colab": {
          "base_uri": "https://localhost:8080/"
        },
        "id": "-eyuTfAJ3TMD",
        "outputId": "29cec5ab-5d19-4e48-bf8f-ee70d3effcdd"
      },
      "outputs": [
        {
          "output_type": "stream",
          "name": "stdout",
          "text": [
            "Updated property [core/project].\n"
          ]
        }
      ],
      "source": [
        "! gcloud config set project $PROJECT_ID"
      ]
    },
    {
      "cell_type": "markdown",
      "metadata": {
        "id": "VDb8-pOV3kYg"
      },
      "source": [
        "###Region"
      ]
    },
    {
      "cell_type": "markdown",
      "metadata": {
        "id": "eO_GaemB3sOZ"
      },
      "source": [
        "1) Americas: \"us-central1\"\n",
        "2) Europe: \"europe-west4\"\n",
        "3) ASia pacific: \"asia-east1\"\n",
        "You may not use a multi-regional bucket for training with Vertex AI. Not all regions provide support for all Vertex AI services. Since my dataset wil be hosted in the US, I will select the Americas region."
      ]
    },
    {
      "cell_type": "code",
      "execution_count": 3,
      "metadata": {
        "id": "w6u7GREB3m8S"
      },
      "outputs": [],
      "source": [
        "REGION = \"us-central1\""
      ]
    },
    {
      "cell_type": "markdown",
      "metadata": {
        "id": "X4F9PTRW4QEB"
      },
      "source": [
        "###Authentificate"
      ]
    },
    {
      "cell_type": "code",
      "execution_count": 4,
      "metadata": {
        "id": "YrmJampZ4TLy"
      },
      "outputs": [],
      "source": [
        "# If you are running this notebook in Colab, run this cell and follow the\n",
        "# instructions to authenticate your GCP account. This provides access to your\n",
        "# Cloud Storage bucket and lets you submit training jobs and prediction\n",
        "# requests.\n",
        "\n",
        "import os\n",
        "import sys\n",
        "\n",
        "# If on Vertex AI Workbench, then don't execute this code\n",
        "IS_COLAB = \"google.colab\" in sys.modules\n",
        "if not os.path.exists(\"/opt/deeplearning/metadata/env_version\") and not os.getenv(\n",
        "    \"DL_ANACONDA_HOME\"\n",
        "):\n",
        "    if \"google.colab\" in sys.modules:\n",
        "        from google.colab import auth as google_auth\n",
        "\n",
        "        google_auth.authenticate_user()\n",
        "\n",
        "    # If you are running this notebook locally, replace the string below with the\n",
        "    # path to your service account key and run this cell to authenticate your GCP\n",
        "    # account.\n",
        "    elif not os.getenv(\"IS_TESTING\"):\n",
        "        %env GOOGLE_APPLICATION_CREDENTIALS ''"
      ]
    },
    {
      "cell_type": "markdown",
      "metadata": {
        "id": "0kScpXgP40Ke"
      },
      "source": [
        "##Cloud storage bucket"
      ]
    },
    {
      "cell_type": "markdown",
      "metadata": {
        "id": "CghQ7rtd5DPS"
      },
      "source": [
        "If you have already created a bucket for this project:"
      ]
    },
    {
      "cell_type": "code",
      "execution_count": 17,
      "metadata": {
        "id": "xgXTxEOd431i"
      },
      "outputs": [],
      "source": [
        "BUCKET_NAME = \"looker-bikes\"  # @param {type:\"string\"}\n",
        "BUCKET_URI = f\"gs://{BUCKET_NAME}\""
      ]
    },
    {
      "cell_type": "markdown",
      "metadata": {
        "id": "CPUN8kA75KH4"
      },
      "source": [
        "##Imports"
      ]
    },
    {
      "cell_type": "code",
      "execution_count": 69,
      "metadata": {
        "id": "FmUR4mps5bLK"
      },
      "outputs": [],
      "source": [
        "from pathlib import Path as path\n",
        "from typing import NamedTuple\n",
        "# General\n",
        "from urllib.parse import urlparse\n",
        "import pandas as pd\n",
        "\n",
        "import google.cloud.aiplatform as vertex_ai\n",
        "# Check components\n",
        "import tensorflow as tf\n",
        "# Simulate operations\n",
        "from google.cloud import bigquery\n",
        "# ML pipeline\n",
        "from google_cloud_pipeline_components.v1.bigquery import (\n",
        "    BigqueryCreateModelJobOp, BigqueryEvaluateModelJobOp,\n",
        "    BigqueryExplainForecastModelJobOp, BigqueryForecastModelJobOp,\n",
        "    BigqueryMLArimaEvaluateJobOp, BigqueryQueryJobOp)\n",
        "from kfp.v2 import compiler, dsl\n",
        "from kfp.v2.dsl import HTML, Artifact, Condition, Input, Output, component"
      ]
    },
    {
      "cell_type": "markdown",
      "metadata": {
        "id": "NtqjqTHQ6wIp"
      },
      "source": [
        "##Initialize BQ SDK for Python"
      ]
    },
    {
      "cell_type": "code",
      "execution_count": 19,
      "metadata": {
        "id": "DqD-aAhK64nd"
      },
      "outputs": [],
      "source": [
        "bq_client = bigquery.Client(project=PROJECT_ID, location=REGION)"
      ]
    },
    {
      "cell_type": "markdown",
      "metadata": {
        "id": "SLGwFR_P66xK"
      },
      "source": [
        "##Create local directories"
      ]
    },
    {
      "cell_type": "code",
      "execution_count": 20,
      "metadata": {
        "id": "paHGY3SK66EX"
      },
      "outputs": [],
      "source": [
        "DATA_PATH = \"data\"\n",
        "KFP_COMPONENTS_PATH = \"components\"\n",
        "PIPELINES_PATH = \"pipelines\"\n",
        "\n",
        "! mkdir -m 777 -p {DATA_PATH}\n",
        "! mkdir -m 777 -p {KFP_COMPONENTS_PATH}\n",
        "! mkdir -m 777 -p {PIPELINES_PATH}"
      ]
    },
    {
      "cell_type": "markdown",
      "metadata": {
        "id": "9_l06yjZ7R5u"
      },
      "source": [
        "#Big Query ML formalization"
      ]
    },
    {
      "cell_type": "markdown",
      "metadata": {
        "id": "rgKOmnOR7fUA"
      },
      "source": [
        "##Set up pipeline variables"
      ]
    },
    {
      "cell_type": "code",
      "execution_count": 88,
      "metadata": {
        "id": "fPANbT207VMG",
        "colab": {
          "base_uri": "https://localhost:8080/"
        },
        "outputId": "70bb9d2f-894e-4e31-b000-980daf79ee39"
      },
      "outputs": [
        {
          "output_type": "execute_result",
          "data": {
            "text/plain": [
              "float"
            ]
          },
          "metadata": {},
          "execution_count": 88
        }
      ],
      "source": [
        "# BQML pipeline job configuation\n",
        "PIPELINE_NAME = \"bqml-pipeline\"\n",
        "PIPELINE_ROOT = urlparse(BUCKET_URI)._replace(path=\"pipeline_root\").geturl()\n",
        "PIPELINE_PACKAGE = str(path(PIPELINES_PATH) / f\"{PIPELINE_NAME}.json\")\n",
        "\n",
        "# BQML pipeline conponent configuration\n",
        "BQ_DATASET = \"Looker_demo_pipeline\"\n",
        "BQ_BIKES_TABLE_PREFIX = \"citibike_trips\"\n",
        "BQ_TRAINING_TABLE_PREFIX = \"bike_trips_training\"\n",
        "BQ_MODEL_TABLE_PREFIX = \"bike_trips_forecast_arima\"\n",
        "BQ_EVALUATE_TS_TABLE_PREFIX = \"bike_trips_arima_time_series_evaluate\"\n",
        "BQ_EVALUATE_MODEL_TABLE_PREFIX = \"bike_trips_arima_model_evaluate\"\n",
        "BQ_FORECAST_TABLE_PREFIX = \"bike_trips_arima_forecast\"\n",
        "BQ_EXPLAIN_FORECAST_TABLE_PREFIX = \"bike_trips_arima_explain_forecast\"\n",
        "BQ_BIKES_TABLE = f\"{BQ_BIKES_TABLE_PREFIX}\"\n",
        "BQ_TRAINING_TABLE = f\"{BQ_TRAINING_TABLE_PREFIX}\"\n",
        "BQ_MODEL_TABLE = f\"{BQ_MODEL_TABLE_PREFIX}\"\n",
        "BQ_EVALUATE_TS_TABLE = f\"{BQ_EVALUATE_TS_TABLE_PREFIX}\"\n",
        "BQ_EVALUATE_MODEL_TABLE = f\"{BQ_EVALUATE_MODEL_TABLE_PREFIX}\"\n",
        "BQ_FORECAST_TABLE = f\"{BQ_FORECAST_TABLE_PREFIX}\"\n",
        "BQ_EXPLAIN_FORECAST_TABLE = f\"{BQ_EXPLAIN_FORECAST_TABLE_PREFIX}\"\n",
        "\n",
        "BQ_TRAIN_CONFIGURATION = {\n",
        "    \"destinationTable\": {\n",
        "        \"projectId\": PROJECT_ID,\n",
        "        \"datasetId\": BQ_DATASET,\n",
        "        \"tableId\": BQ_TRAINING_TABLE,\n",
        "    },\n",
        "    \"writeDisposition\": \"WRITE_TRUNCATE\",\n",
        "}\n",
        "\n",
        "BQ_EVALUATE_TS_CONFIGURATION = {\n",
        "    \"destinationTable\": {\n",
        "        \"projectId\": PROJECT_ID,\n",
        "        \"datasetId\": BQ_DATASET,\n",
        "        \"tableId\": BQ_EVALUATE_TS_TABLE,\n",
        "    },\n",
        "    \"writeDisposition\": \"WRITE_TRUNCATE\",\n",
        "}\n",
        "BQ_EVALUATE_MODEL_CONFIGURATION = {\n",
        "    \"destinationTable\": {\n",
        "        \"projectId\": PROJECT_ID,\n",
        "        \"datasetId\": BQ_DATASET,\n",
        "        \"tableId\": BQ_EVALUATE_MODEL_TABLE,\n",
        "    },\n",
        "    \"writeDisposition\": \"WRITE_TRUNCATE\",\n",
        "}\n",
        "BQ_FORECAST_CONFIGURATION = {\n",
        "    \"destinationTable\": {\n",
        "        \"projectId\": PROJECT_ID,\n",
        "        \"datasetId\": BQ_DATASET,\n",
        "        \"tableId\": BQ_FORECAST_TABLE,\n",
        "    },\n",
        "    \"writeDisposition\": \"WRITE_TRUNCATE\",\n",
        "}\n",
        "BQ_EXPLAIN_FORECAST_CONFIGURATION = {\n",
        "    \"destinationTable\": {\n",
        "        \"projectId\": PROJECT_ID,\n",
        "        \"datasetId\": BQ_DATASET,\n",
        "        \"tableId\": BQ_EXPLAIN_FORECAST_TABLE,\n",
        "    },\n",
        "    \"writeDisposition\": \"WRITE_TRUNCATE\",\n",
        "}\n",
        "PERF_THRESHOLD = 3000.0\n",
        "type(PERF_THRESHOLD)"
      ]
    },
    {
      "cell_type": "markdown",
      "metadata": {
        "id": "KWAPBiAB8tn_"
      },
      "source": [
        "##Create location for storing YAML component definitions"
      ]
    },
    {
      "cell_type": "code",
      "execution_count": 22,
      "metadata": {
        "id": "BTmO39Qf83kG"
      },
      "outputs": [],
      "source": [
        "! mkdir -m 777 -p {KFP_COMPONENTS_PATH}/custom_components"
      ]
    },
    {
      "cell_type": "markdown",
      "metadata": {
        "id": "nyYfs3dnKTLT"
      },
      "source": [
        "#Components"
      ]
    },
    {
      "cell_type": "markdown",
      "metadata": {
        "id": "uVNyW8vv88qB"
      },
      "source": [
        "##Create custom component to read model evaluation metrics"
      ]
    },
    {
      "cell_type": "markdown",
      "metadata": {
        "id": "tmB_JpJu9Qji"
      },
      "source": [
        "Build a custom component to consume model evaluation metrics for visualizations in the Vertex AI Pipelines UI using Kubeflow SDK visualization APIs. Indeed, Vertex AI allows you to render that HTML in an output page which is easily accessible from the Google Cloud console."
      ]
    },
    {
      "cell_type": "code",
      "execution_count": 85,
      "metadata": {
        "id": "K1P9aMO987Te"
      },
      "outputs": [],
      "source": [
        "@component(\n",
        "    base_image=\"python:3.8-slim\",\n",
        "    packages_to_install=[\"jinja2\", \"pandas\", \"matplotlib\"],\n",
        "    output_component_file=f\"{KFP_COMPONENTS_PATH}/custom_components/build_bq_evaluate_metrics.yaml\",\n",
        ")\n",
        "def get_model_evaluation_metrics(\n",
        "    metrics_in: Input[Artifact], metrics_out: Output[HTML]\n",
        ") -> NamedTuple(\"Outputs\", [(\"avg_mean_absolute_error\", float)]):\n",
        "    \"\"\"\n",
        "    Get the average mean absolute error from the metrics\n",
        "    Args:\n",
        "        metrics_in: metrics artifact\n",
        "        metrics_out: metrics artifact\n",
        "    Returns:\n",
        "        avg_mean_absolute_error: average mean absolute error\n",
        "    \"\"\"\n",
        "\n",
        "    import pandas as pd\n",
        "\n",
        "    # Helpers\n",
        "    def prettyfier(styler):\n",
        "        \"\"\"\n",
        "        Helper function to prettify the metrics table.\n",
        "        Args:\n",
        "            styler: Styler object\n",
        "        Returns:\n",
        "            Styler object\n",
        "        \"\"\"\n",
        "        caption = {\n",
        "            \"selector\": \"caption\",\n",
        "            \"props\": [\n",
        "                (\"caption-side\", \"top\"),\n",
        "                (\"font-size\", \"150%\"),\n",
        "                (\"font-weight\", \"bold\"),\n",
        "                (\"font-family\", \"arial\"),\n",
        "            ],\n",
        "        }\n",
        "        headers = {\n",
        "            \"selector\": \"th\",\n",
        "            \"props\": [(\"color\", \"black\"), (\"font-family\", \"arial\")],\n",
        "        }\n",
        "        rows = {\n",
        "            \"selector\": \"td\",\n",
        "            \"props\": [(\"text-align\", \"center\"), (\"font-family\", \"arial\")],\n",
        "        }\n",
        "        styler.set_table_styles([caption, headers, rows])\n",
        "        styler.set_caption(\"Forecasting accuracy report \")\n",
        "        styler.hide(axis=\"index\")\n",
        "        styler.format(precision=2)\n",
        "        styler.background_gradient(cmap=\"Blues\")\n",
        "        return styler\n",
        "\n",
        "    def get_column_names(header):\n",
        "        \"\"\"\n",
        "        Helper function to get the column names from the metrics table.\n",
        "        Args:\n",
        "            header: header\n",
        "        Returns:\n",
        "            column_names: column names\n",
        "        \"\"\"\n",
        "        header_clean = header.replace(\"_\", \" \")\n",
        "        header_abbrev = \"\".join([h[0].upper() for h in header_clean.split()])\n",
        "        header_prettied = f\"{header_clean} ({header_abbrev})\"\n",
        "        return header_prettied\n",
        "\n",
        "    # Extract rows and schema from metrics artifact\n",
        "    rows = metrics_in.metadata[\"rows\"]\n",
        "    schema = metrics_in.metadata[\"schema\"]\n",
        "\n",
        "    # Convert into a tabular format\n",
        "    columns = [metrics[\"name\"] for metrics in schema[\"fields\"] if \"name\" in metrics]\n",
        "    records = []\n",
        "    for row in rows:\n",
        "        records.append([dl[\"v\"] for dl in row[\"f\"]])\n",
        "    metrics = (\n",
        "        pd.DataFrame.from_records(records, columns=columns, index=\"product_name\")\n",
        "        .astype(float)\n",
        "        .round(3)\n",
        "    )\n",
        "    metrics = metrics.reset_index()\n",
        "\n",
        "    # Create the HTML artifact for the metrics\n",
        "    pretty_columns = list(\n",
        "        map(\n",
        "            lambda h: get_column_names(h)\n",
        "            if h != columns[0]\n",
        "            else h.replace(\"_\", \" \").capitalize(),\n",
        "            columns,\n",
        "        )\n",
        "    )\n",
        "    pretty_metrics = metrics.copy()\n",
        "    pretty_metrics.columns = pretty_columns\n",
        "    html_metrics = pretty_metrics.style.pipe(prettyfier).to_html()\n",
        "    with open(metrics_out.path, \"w\") as f:\n",
        "        f.write(html_metrics)\n",
        "\n",
        "    # Create metrics dictionary for the model\n",
        "    avg_mean_absolute_error = round(float(metrics.mean_absolute_error.mean()), 0)\n",
        "    component_outputs = NamedTuple(\"Outputs\", [(\"avg_mean_absolute_error\", float)])\n",
        "\n",
        "    return component_outputs(avg_mean_absolute_error)\n",
        "\n"
      ]
    },
    {
      "cell_type": "markdown",
      "metadata": {
        "id": "VzZOlgR4BB14"
      },
      "source": [
        "#Create pipeline"
      ]
    },
    {
      "cell_type": "markdown",
      "source": [
        "This is the official addapted code but, truth been told, I encounter an error with the output jsons for the model and timeseries evaluation. No matter how small I make the dataset, or the name of the file, it seems it is still too big to be implemented on GCS. It needs further research to debug."
      ],
      "metadata": {
        "id": "luITBoRf6TUx"
      }
    },
    {
      "cell_type": "code",
      "execution_count": 48,
      "metadata": {
        "id": "4kw-zFejBCVC"
      },
      "outputs": [],
      "source": [
        "\n",
        "@dsl.pipeline(\n",
        "    name=PIPELINE_NAME,\n",
        "    description=\"A batch pipeline to train ARIMA PLUS using BQML\",\n",
        ")\n",
        "def pipeline(\n",
        "    bq_dataset: str = BQ_DATASET,\n",
        "    bq_bikes_table: str = BQ_BIKES_TABLE,\n",
        "    bq_training_table: str = BQ_TRAINING_TABLE,\n",
        "    bq_train_configuration: dict = BQ_TRAIN_CONFIGURATION,\n",
        "    bq_model_table: str = BQ_MODEL_TABLE,\n",
        "    bq_evaluate_time_series_configuration: dict = BQ_EVALUATE_TS_CONFIGURATION,\n",
        "    bq_evaluate_model_configuration: dict = BQ_EVALUATE_MODEL_CONFIGURATION,\n",
        "    performance_threshold: float = PERF_THRESHOLD,\n",
        "    bq_forecast_configuration: dict = BQ_FORECAST_CONFIGURATION,\n",
        "    bq_explain_forecast_configuration: dict = BQ_EXPLAIN_FORECAST_CONFIGURATION,\n",
        "    project: str = PROJECT_ID,\n",
        "    location: str = REGION.split('-')[0],\n",
        "):\n",
        "\n",
        "    # Create the training dataset\n",
        "    create_training_dataset_op = BigqueryQueryJobOp(\n",
        "        query=f\"\"\"\n",
        "        -- create the training table\n",
        "        WITH \n",
        "        -- get 90% percentile for time series splitting\n",
        "        get_split AS (\n",
        "          SELECT APPROX_QUANTILES(DATETIME_TRUNC(starttime, DAY), 100)[OFFSET(70)] as split\n",
        "          FROM `{project}.{bq_dataset}.{bq_bikes_table}`\n",
        "          WHERE EXTRACT(YEAR from starttime)>2015\n",
        "        ),\n",
        "        -- get train table\n",
        "        get_train AS (\n",
        "          SELECT\n",
        "            DATETIME_TRUNC(starttime, DAY) as hourly_timestamp,\n",
        "            start_station_name,\n",
        "            COUNT(*) AS rentals,\n",
        "            FROM `{project}.{bq_dataset}.{bq_bikes_table}`\n",
        "        GROUP BY hourly_timestamp, start_station_name\n",
        "        )\n",
        "        SELECT\n",
        "          *,\n",
        "          CASE WHEN hourly_timestamp < (SELECT split FROM get_split) THEN 'TRAIN' ELSE 'TEST' END AS split\n",
        "        FROM get_train\n",
        "        ORDER BY hourly_timestamp\n",
        "        \"\"\",\n",
        "        job_configuration_query=bq_train_configuration,\n",
        "        project=project,\n",
        "        location=location,\n",
        "    ).set_display_name(\"get train data\")\n",
        "\n",
        "    # Run an ARIMA PLUS experiment\n",
        "    bq_arima_model_exp_op = (\n",
        "        BigqueryCreateModelJobOp(\n",
        "            query=f\"\"\"\n",
        "        -- create model table\n",
        "        CREATE OR REPLACE MODEL `{project}.{bq_dataset}.{bq_model_table}`\n",
        "        OPTIONS(\n",
        "        MODEL_TYPE = \\'ARIMA_PLUS\\',\n",
        "        TIME_SERIES_TIMESTAMP_COL = \\'hourly_timestamp\\',\n",
        "        TIME_SERIES_DATA_COL = \\'rentals\\',\n",
        "        TIME_SERIES_ID_COL = [\\'start_station_name\\'],\n",
        "        AUTO_ARIMA_MAX_ORDER=2\n",
        "        ) AS\n",
        "        SELECT\n",
        "          hourly_timestamp,\n",
        "          start_station_name,\n",
        "          rentals\n",
        "        FROM `{project}.{bq_dataset}.{bq_training_table}`\n",
        "        WHERE split='TRAIN';\n",
        "        \"\"\",\n",
        "            project=project,\n",
        "            location=location,\n",
        "        )\n",
        "        .set_display_name(\"run arima+ model experiment\")\n",
        "        .after(create_training_dataset_op)\n",
        "    )\n",
        "\n",
        "    # Evaluate ARIMA PLUS time series\n",
        "    _ = (\n",
        "        BigqueryMLArimaEvaluateJobOp(\n",
        "            project=project,\n",
        "            location=location,\n",
        "            model=bq_arima_model_exp_op.outputs[\"model\"],\n",
        "            show_all_candidate_models=False,\n",
        "            job_configuration_query=bq_evaluate_time_series_configuration,\n",
        "        )\n",
        "        .set_display_name(\"evaluate arima plus time series\")\n",
        "        .after(bq_arima_model_exp_op)\n",
        "    )\n",
        "\n",
        "    # Evaluate ARIMA Plus model\n",
        "    bq_arima_evaluate_model_op = (\n",
        "        BigqueryEvaluateModelJobOp(\n",
        "            project=project,\n",
        "            location=location,\n",
        "            model=bq_arima_model_exp_op.outputs[\"model\"],\n",
        "            query_statement=f\"\"\"SELECT * FROM `{project}.{bq_dataset}.{bq_training_table}` WHERE split='TEST'\"\"\",\n",
        "            job_configuration_query=bq_evaluate_model_configuration,\n",
        "        )\n",
        "        .set_display_name(\"evaluate arima plus model\")\n",
        "        .after(bq_arima_model_exp_op)\n",
        "    )\n",
        "    # Plot model metrics\n",
        "    get_evaluation_model_metrics_op = (\n",
        "        get_model_evaluation_metrics(\n",
        "            bq_arima_evaluate_model_op.outputs[\"evaluation_metrics\"]\n",
        "        )\n",
        "        .after(bq_arima_evaluate_model_op)\n",
        "        .set_display_name(\"plot evaluation metrics\")\n",
        "    )\n",
        "\n",
        "    # Check the model performance. If ARIMA_PLUS average MAE metric is below to a minimal threshold\n",
        "\n",
        " \n",
        "    with Condition(\n",
        "        get_evaluation_model_metrics_op.outputs[\"avg_mean_absolute_error\"]\n",
        "        < PERF_THRESHOLD,\n",
        "        name=\"avg. mae good\",\n",
        "    ):\n",
        "        # Train the ARIMA PLUS model\n",
        "        bq_arima_model_op = (\n",
        "            BigqueryCreateModelJobOp(\n",
        "                query=f\"\"\"\n",
        "        -- create model table\n",
        "        CREATE OR REPLACE MODEL `{project}.{bq_dataset}.{bq_model_table}`\n",
        "        OPTIONS(\n",
        "        MODEL_TYPE = \\'ARIMA_PLUS\\',\n",
        "        TIME_SERIES_TIMESTAMP_COL = \\'hourly_timestamp\\',\n",
        "        TIME_SERIES_DATA_COL = \\'rentals\\',\n",
        "        TIME_SERIES_ID_COL = [\\'start_station_name\\'],\n",
        "        AUTO_ARIMA_MAX_ORDER=2,\n",
        "        MODEL_REGISTRY = \\'vertex_ai\\',\n",
        "        VERTEX_AI_MODEL_ID = \\'rentals_demand_forecasting\\',\n",
        "        VERTEX_AI_MODEL_VERSION_ALIASES = [\\'staging\\']\n",
        "        ) AS\n",
        "        SELECT\n",
        "          DATETIME_TRUNC(starttime, DAY) as hourly_timestamp,\n",
        "          start_station_name,\n",
        "          COUNT(*) AS rentals,\n",
        "          FROM `{project}.{bq_dataset}.{bq_bikes_table}`\n",
        "        GROUP BY hourly_timestamp, start_station_name;\n",
        "        \"\"\",\n",
        "                project=project,\n",
        "                location=location,\n",
        "            )\n",
        "            .set_display_name(\"train arima+ model\")\n",
        "            .after(get_evaluation_model_metrics_op)            \n",
        "        )\n",
        "\n",
        "        # Generate the ARIMA PLUS forecasts\n",
        "        bq_arima_forecast_op = (\n",
        "            BigqueryForecastModelJobOp(\n",
        "                project=project,\n",
        "                location=location,\n",
        "                model=bq_arima_model_op.outputs[\"model\"],\n",
        "                horizon=1,  # 1 hour\n",
        "                confidence_level=0.9,\n",
        "                job_configuration_query=bq_forecast_configuration,\n",
        "            )\n",
        "            .set_display_name(\"generate hourly forecasts\")\n",
        "            .after(get_evaluation_model_metrics_op)\n",
        "        )\n",
        "\n",
        "        # Generate the ARIMA PLUS forecast explainations\n",
        "        _ = (\n",
        "            BigqueryExplainForecastModelJobOp(\n",
        "                project=project,\n",
        "                location=location,\n",
        "                model=bq_arima_model_op.outputs[\"model\"],\n",
        "                horizon=1,  # 1 hour\n",
        "                confidence_level=0.9,\n",
        "                job_configuration_query=bq_explain_forecast_configuration,\n",
        "            )\n",
        "            .set_display_name(\"explain hourly forecasts\")\n",
        "            .after(bq_arima_forecast_op)\n",
        "        )\n",
        "\n",
        "   "
      ]
    },
    {
      "cell_type": "markdown",
      "source": [
        "The simplest way of solving this is just orchestrating normal query components in the pipeline that dont output a .json to the bucket. It is a worse implementation it works so far."
      ],
      "metadata": {
        "id": "-zrqGhZ86s5o"
      }
    },
    {
      "cell_type": "code",
      "source": [
        "def get_avg_mae(project_id: str, table_name: str) -> NamedTuple('Output', [('avg_mae', float)]): \n",
        "    from google.cloud import bigquery  \n",
        "    import pandas as pd \n",
        "    client = bigquery.Client(project=project_id)\n",
        "    query = f\"SELECT AVG(mean_absolute_error) AS avg_mae FROM `{table_name}`\"\n",
        "    result = client.query(query).result().to_dataframe()   \n",
        "    avg_mean_error=result['avg_mae'].iloc[0].tolist()\n",
        "    return {'avg_mae': avg_mean_error} \n",
        "get_avg_mae(project_id=PROJECT_ID, table_name=\"incentro-spain-projects.Looker_demo_pipeline.bike_trips_arima_model_evaluate\")\n",
        "  "
      ],
      "metadata": {
        "colab": {
          "base_uri": "https://localhost:8080/"
        },
        "id": "k2n2qYU1LuDp",
        "outputId": "9a3f904c-6527-4d06-c39f-3f020e97e28c"
      },
      "execution_count": 168,
      "outputs": [
        {
          "output_type": "execute_result",
          "data": {
            "text/plain": [
              "{'avg_mae': 24.343394710507045}"
            ]
          },
          "metadata": {},
          "execution_count": 168
        }
      ]
    },
    {
      "cell_type": "code",
      "source": [
        "@component(\n",
        "    base_image=\"python:3.8-slim\",\n",
        "    packages_to_install=[\"google-cloud-bigquery\", \"pandas\",\"db-dtypes\"],\n",
        "    output_component_file=f\"{KFP_COMPONENTS_PATH}/custom_components/avg_mean_error.yaml\",\n",
        ")\n",
        "def get_avg_mae(project_id: str, table_name: str) -> NamedTuple('Output', [('avg_mean_absolute_error', float)]): \n",
        "    from google.cloud import bigquery  \n",
        "    import pandas as pd \n",
        "    client = bigquery.Client(project=project_id)\n",
        "    query = f\"SELECT AVG(mean_absolute_error) AS avg_mae FROM `{table_name}`\"\n",
        "    result = client.query(query).result().to_dataframe()\n",
        "    avg_mean_absolute_error=result['avg_mae'].iloc[0].tolist()\n",
        "    component_outputs = NamedTuple(\"Outputs\", [(\"avg_mean_absolute_error\", float)])\n",
        "    return component_outputs(avg_mean_absolute_error)\n"
      ],
      "metadata": {
        "id": "OZiQDnBq8Byv"
      },
      "execution_count": 179,
      "outputs": []
    },
    {
      "cell_type": "code",
      "source": [
        "#Another version of the pipeline.\n",
        "@dsl.pipeline(\n",
        "    name=PIPELINE_NAME,\n",
        "    description=\"A batch pipeline to train ARIMA PLUS using BQML\",\n",
        ")\n",
        "def pipeline(\n",
        "    bq_dataset: str = BQ_DATASET,\n",
        "    bq_bikes_table: str = BQ_BIKES_TABLE,\n",
        "    bq_training_table: str = BQ_TRAINING_TABLE,\n",
        "    bq_train_configuration: dict = BQ_TRAIN_CONFIGURATION,\n",
        "    bq_model_table: str = BQ_MODEL_TABLE,\n",
        "    bq_evaluate_time_series_configuration: dict = BQ_EVALUATE_TS_CONFIGURATION,\n",
        "    bq_evaluate_model_configuration: dict = BQ_EVALUATE_MODEL_CONFIGURATION,\n",
        "    performance_threshold: float = PERF_THRESHOLD,\n",
        "    bq_forecast_configuration: dict = BQ_FORECAST_CONFIGURATION,\n",
        "    bq_explain_forecast_configuration: dict = BQ_EXPLAIN_FORECAST_CONFIGURATION,\n",
        "    project: str = PROJECT_ID,\n",
        "    location: str = REGION.split('-')[0],\n",
        "):\n",
        "\n",
        "    #get_avg_mae_op1=(\n",
        "        #get_avg_mae(project_id=PROJECT_ID, table_name=\"incentro-spain-projects.Looker_demo_pipeline.bike_trips_arima_model_evaluate\")\n",
        "   # )\n",
        "\n",
        "    # Create the training dataset\n",
        "    create_training_dataset_op = BigqueryQueryJobOp(\n",
        "        query=f\"\"\"\n",
        "        -- create the training table\n",
        "        WITH \n",
        "        -- get 90% percentile for time series splitting\n",
        "        get_split AS (\n",
        "          SELECT APPROX_QUANTILES(DATETIME_TRUNC(starttime, DAY), 100)[OFFSET(90)] as split\n",
        "          FROM `{project}.{bq_dataset}.{bq_bikes_table}`\n",
        "          WHERE EXTRACT(YEAR from starttime)>2015\n",
        "        ),\n",
        "        -- get train table\n",
        "        get_train AS (\n",
        "          SELECT\n",
        "            DATETIME_TRUNC(starttime, DAY) as hourly_timestamp,\n",
        "            start_station_name,\n",
        "            COUNT(*) AS rentals,\n",
        "            FROM `{project}.{bq_dataset}.{bq_bikes_table}`\n",
        "        GROUP BY hourly_timestamp, start_station_name\n",
        "        )\n",
        "        SELECT\n",
        "          *,\n",
        "          CASE WHEN hourly_timestamp < (SELECT split FROM get_split) THEN 'TRAIN' ELSE 'TEST' END AS split\n",
        "        FROM get_train\n",
        "        ORDER BY hourly_timestamp\n",
        "        \"\"\",\n",
        "        job_configuration_query=bq_train_configuration,\n",
        "        project=project,\n",
        "        location=location,\n",
        "    ).set_display_name(\"get train data\")\n",
        "     #.after(get_avg_mae_op1)\n",
        "\n",
        "    # Run an ARIMA PLUS experiment\n",
        "    bq_arima_model_exp_op = (\n",
        "        BigqueryCreateModelJobOp(\n",
        "            query=f\"\"\"\n",
        "        -- create model table\n",
        "        CREATE OR REPLACE MODEL `{project}.{bq_dataset}.{bq_model_table}`\n",
        "        OPTIONS(\n",
        "        MODEL_TYPE = \\'ARIMA_PLUS\\',\n",
        "        TIME_SERIES_TIMESTAMP_COL = \\'hourly_timestamp\\',\n",
        "        TIME_SERIES_DATA_COL = \\'rentals\\',\n",
        "        TIME_SERIES_ID_COL = [\\'start_station_name\\'],\n",
        "        AUTO_ARIMA_MAX_ORDER=2\n",
        "        ) AS\n",
        "        SELECT\n",
        "          hourly_timestamp,\n",
        "          start_station_name,\n",
        "          rentals\n",
        "        FROM `{project}.{bq_dataset}.{bq_training_table}`\n",
        "        WHERE split='TRAIN';\n",
        "        \"\"\",\n",
        "            project=project,\n",
        "            location=location,\n",
        "        )\n",
        "        .set_display_name(\"run arima+ model experiment\")\n",
        "        .after(create_training_dataset_op)\n",
        "    )\n",
        "\n",
        "    # Evaluate timeseries\n",
        "    bq_eval_ts_op = BigqueryQueryJobOp(\n",
        "        query=f\"\"\"\n",
        "        SELECT * FROM ML.ARIMA_EVALUATE( MODEL `{project}.{bq_dataset}.{bq_model_table}`)\n",
        "        \"\"\",\n",
        "        job_configuration_query=bq_evaluate_time_series_configuration,\n",
        "        project=project,\n",
        "        location=location,\n",
        "    ).set_display_name(\"Eval time series\").after(bq_arima_model_exp_op)\n",
        "\n",
        "    # Evaluate model\n",
        "    bq_eval_model_op = BigqueryQueryJobOp(\n",
        "        query=f\"\"\"\n",
        "        SELECT * FROM ML.EVALUATE( MODEL `{project}.{bq_dataset}.{bq_model_table}`,(SELECT * FROM `{project}.{bq_dataset}.{bq_training_table}` WHERE split='TEST'))\n",
        "        \"\"\",\n",
        "        job_configuration_query=bq_evaluate_model_configuration,\n",
        "        project=project,\n",
        "        location=location,\n",
        "    ).set_display_name(\"Eval model\").after(bq_arima_model_exp_op)\n",
        "\n",
        "    #Get average mean error\n",
        "    get_avg_mae_op=(\n",
        "        get_avg_mae(project_id=PROJECT_ID, table_name=\"incentro-spain-projects.Looker_demo_pipeline.bike_trips_arima_model_evaluate\")\n",
        "        .set_display_name(\"Get error for condition\").after(bq_eval_model_op))\n",
        "        \n",
        "\n",
        "    \n",
        "    with Condition(\n",
        "        get_avg_mae_op.outputs['avg_mean_absolute_error'] < PERF_THRESHOLD,\n",
        "        name=\"avg. mae good\",\n",
        "    ):\n",
        "    # Train the ARIMA PLUS model\n",
        "        bq_arima_model_op = (\n",
        "            BigqueryCreateModelJobOp(\n",
        "                query=f\"\"\"\n",
        "        -- create model table\n",
        "        CREATE OR REPLACE MODEL `{project}.{bq_dataset}.{bq_model_table}`\n",
        "        OPTIONS(\n",
        "        MODEL_TYPE = \\'ARIMA_PLUS\\',\n",
        "        TIME_SERIES_TIMESTAMP_COL = \\'hourly_timestamp\\',\n",
        "        TIME_SERIES_DATA_COL = \\'rentals\\',\n",
        "        TIME_SERIES_ID_COL = [\\'start_station_name\\'],\n",
        "        AUTO_ARIMA_MAX_ORDER=2,\n",
        "        MODEL_REGISTRY = \\'vertex_ai\\',\n",
        "        VERTEX_AI_MODEL_ID = \\'rentals_demand_forecasting\\',\n",
        "        VERTEX_AI_MODEL_VERSION_ALIASES = [\\'staging\\']\n",
        "        ) AS\n",
        "        SELECT\n",
        "          DATETIME_TRUNC(starttime, DAY) as hourly_timestamp,\n",
        "          start_station_name,\n",
        "          COUNT(*) AS rentals,\n",
        "          FROM `{project}.{bq_dataset}.{bq_bikes_table}`\n",
        "        GROUP BY hourly_timestamp, start_station_name;\n",
        "        \"\"\",\n",
        "                project=project,\n",
        "                location=location,\n",
        "            )\n",
        "            .set_display_name(\"train arima+ model\")\n",
        "            .after(get_avg_mae_op)            \n",
        "        )\n",
        "\n",
        "        # Generate the ARIMA PLUS forecasts\n",
        "        bq_arima_forecast_op = (\n",
        "            BigqueryForecastModelJobOp(\n",
        "                project=project,\n",
        "                location=location,\n",
        "                model=bq_arima_model_op.outputs[\"model\"],\n",
        "                horizon=1,  # 1 hour\n",
        "                confidence_level=0.9,\n",
        "                job_configuration_query=bq_forecast_configuration,\n",
        "            )\n",
        "            .set_display_name(\"generate hourly forecasts\")\n",
        "            .after(get_avg_mae_op)\n",
        "        )\n",
        "\n",
        "        # Generate the ARIMA PLUS forecast explainations\n",
        "        _ = (\n",
        "            BigqueryExplainForecastModelJobOp(\n",
        "                project=project,\n",
        "                location=location,\n",
        "                model=bq_arima_model_op.outputs[\"model\"],\n",
        "                horizon=1,  # 1 hour\n",
        "                confidence_level=0.9,\n",
        "                job_configuration_query=bq_explain_forecast_configuration,\n",
        "            )\n",
        "            .set_display_name(\"explain hourly forecasts\")\n",
        "            .after(bq_arima_forecast_op)\n",
        "        )\n",
        "    \n",
        "\n",
        "\n",
        "\n",
        "\n"
      ],
      "metadata": {
        "id": "WlGHyMir_Q6v"
      },
      "execution_count": 180,
      "outputs": []
    },
    {
      "cell_type": "code",
      "execution_count": 181,
      "metadata": {
        "id": "m0hNKG9ZEiBp"
      },
      "outputs": [],
      "source": [
        "compiler.Compiler().compile(pipeline_func=pipeline, package_path=PIPELINE_PACKAGE)"
      ]
    },
    {
      "cell_type": "code",
      "execution_count": 182,
      "metadata": {
        "colab": {
          "base_uri": "https://localhost:8080/"
        },
        "id": "-KpSst8UEoNM",
        "outputId": "90f9bcf7-c415-450e-b085-efd51cafa49b"
      },
      "outputs": [
        {
          "output_type": "stream",
          "name": "stdout",
          "text": [
            "Creating PipelineJob\n"
          ]
        },
        {
          "output_type": "stream",
          "name": "stderr",
          "text": [
            "INFO:google.cloud.aiplatform.pipeline_jobs:Creating PipelineJob\n"
          ]
        },
        {
          "output_type": "stream",
          "name": "stdout",
          "text": [
            "PipelineJob created. Resource name: projects/126752948276/locations/us-central1/pipelineJobs/bqml-pipeline-20230301174826\n"
          ]
        },
        {
          "output_type": "stream",
          "name": "stderr",
          "text": [
            "INFO:google.cloud.aiplatform.pipeline_jobs:PipelineJob created. Resource name: projects/126752948276/locations/us-central1/pipelineJobs/bqml-pipeline-20230301174826\n"
          ]
        },
        {
          "output_type": "stream",
          "name": "stdout",
          "text": [
            "To use this PipelineJob in another session:\n"
          ]
        },
        {
          "output_type": "stream",
          "name": "stderr",
          "text": [
            "INFO:google.cloud.aiplatform.pipeline_jobs:To use this PipelineJob in another session:\n"
          ]
        },
        {
          "output_type": "stream",
          "name": "stdout",
          "text": [
            "pipeline_job = aiplatform.PipelineJob.get('projects/126752948276/locations/us-central1/pipelineJobs/bqml-pipeline-20230301174826')\n"
          ]
        },
        {
          "output_type": "stream",
          "name": "stderr",
          "text": [
            "INFO:google.cloud.aiplatform.pipeline_jobs:pipeline_job = aiplatform.PipelineJob.get('projects/126752948276/locations/us-central1/pipelineJobs/bqml-pipeline-20230301174826')\n"
          ]
        },
        {
          "output_type": "stream",
          "name": "stdout",
          "text": [
            "View Pipeline Job:\n",
            "https://console.cloud.google.com/vertex-ai/locations/us-central1/pipelines/runs/bqml-pipeline-20230301174826?project=126752948276\n"
          ]
        },
        {
          "output_type": "stream",
          "name": "stderr",
          "text": [
            "INFO:google.cloud.aiplatform.pipeline_jobs:View Pipeline Job:\n",
            "https://console.cloud.google.com/vertex-ai/locations/us-central1/pipelines/runs/bqml-pipeline-20230301174826?project=126752948276\n"
          ]
        },
        {
          "output_type": "stream",
          "name": "stdout",
          "text": [
            "PipelineJob projects/126752948276/locations/us-central1/pipelineJobs/bqml-pipeline-20230301174826 current state:\n",
            "PipelineState.PIPELINE_STATE_RUNNING\n"
          ]
        },
        {
          "output_type": "stream",
          "name": "stderr",
          "text": [
            "INFO:google.cloud.aiplatform.pipeline_jobs:PipelineJob projects/126752948276/locations/us-central1/pipelineJobs/bqml-pipeline-20230301174826 current state:\n",
            "PipelineState.PIPELINE_STATE_RUNNING\n"
          ]
        },
        {
          "output_type": "stream",
          "name": "stdout",
          "text": [
            "PipelineJob projects/126752948276/locations/us-central1/pipelineJobs/bqml-pipeline-20230301174826 current state:\n",
            "PipelineState.PIPELINE_STATE_RUNNING\n"
          ]
        },
        {
          "output_type": "stream",
          "name": "stderr",
          "text": [
            "INFO:google.cloud.aiplatform.pipeline_jobs:PipelineJob projects/126752948276/locations/us-central1/pipelineJobs/bqml-pipeline-20230301174826 current state:\n",
            "PipelineState.PIPELINE_STATE_RUNNING\n"
          ]
        },
        {
          "output_type": "stream",
          "name": "stdout",
          "text": [
            "PipelineJob projects/126752948276/locations/us-central1/pipelineJobs/bqml-pipeline-20230301174826 current state:\n",
            "PipelineState.PIPELINE_STATE_RUNNING\n"
          ]
        },
        {
          "output_type": "stream",
          "name": "stderr",
          "text": [
            "INFO:google.cloud.aiplatform.pipeline_jobs:PipelineJob projects/126752948276/locations/us-central1/pipelineJobs/bqml-pipeline-20230301174826 current state:\n",
            "PipelineState.PIPELINE_STATE_RUNNING\n"
          ]
        },
        {
          "output_type": "stream",
          "name": "stdout",
          "text": [
            "PipelineJob projects/126752948276/locations/us-central1/pipelineJobs/bqml-pipeline-20230301174826 current state:\n",
            "PipelineState.PIPELINE_STATE_RUNNING\n"
          ]
        },
        {
          "output_type": "stream",
          "name": "stderr",
          "text": [
            "INFO:google.cloud.aiplatform.pipeline_jobs:PipelineJob projects/126752948276/locations/us-central1/pipelineJobs/bqml-pipeline-20230301174826 current state:\n",
            "PipelineState.PIPELINE_STATE_RUNNING\n"
          ]
        },
        {
          "output_type": "stream",
          "name": "stdout",
          "text": [
            "PipelineJob projects/126752948276/locations/us-central1/pipelineJobs/bqml-pipeline-20230301174826 current state:\n",
            "PipelineState.PIPELINE_STATE_RUNNING\n"
          ]
        },
        {
          "output_type": "stream",
          "name": "stderr",
          "text": [
            "INFO:google.cloud.aiplatform.pipeline_jobs:PipelineJob projects/126752948276/locations/us-central1/pipelineJobs/bqml-pipeline-20230301174826 current state:\n",
            "PipelineState.PIPELINE_STATE_RUNNING\n"
          ]
        },
        {
          "output_type": "stream",
          "name": "stdout",
          "text": [
            "PipelineJob projects/126752948276/locations/us-central1/pipelineJobs/bqml-pipeline-20230301174826 current state:\n",
            "PipelineState.PIPELINE_STATE_RUNNING\n"
          ]
        },
        {
          "output_type": "stream",
          "name": "stderr",
          "text": [
            "INFO:google.cloud.aiplatform.pipeline_jobs:PipelineJob projects/126752948276/locations/us-central1/pipelineJobs/bqml-pipeline-20230301174826 current state:\n",
            "PipelineState.PIPELINE_STATE_RUNNING\n"
          ]
        },
        {
          "output_type": "stream",
          "name": "stdout",
          "text": [
            "PipelineJob run completed. Resource name: projects/126752948276/locations/us-central1/pipelineJobs/bqml-pipeline-20230301174826\n"
          ]
        },
        {
          "output_type": "stream",
          "name": "stderr",
          "text": [
            "INFO:google.cloud.aiplatform.pipeline_jobs:PipelineJob run completed. Resource name: projects/126752948276/locations/us-central1/pipelineJobs/bqml-pipeline-20230301174826\n"
          ]
        }
      ],
      "source": [
        "bqml_pipeline = vertex_ai.PipelineJob(\n",
        "    display_name=f\"{PIPELINE_NAME}-job\",\n",
        "    template_path=PIPELINE_PACKAGE,\n",
        "    pipeline_root=PIPELINE_ROOT,\n",
        "    enable_caching=False,    \n",
        "    project=PROJECT_ID,\n",
        ")\n",
        "\n",
        "bqml_pipeline.run()"
      ]
    },
    {
      "cell_type": "code",
      "source": [
        "avg_mean_error = pd.read_gbq(\"SELECT avg(mean_absolute_error) FROM `incentro-spain-projects.Looker_demo_pipeline.bike_trips_arima_model_evaluate`\", project_id = PROJECT_ID, dialect = 'standard')\n",
        "type(avg_mean_error.iloc[0,0].tolist())"
      ],
      "metadata": {
        "id": "0hGSl9Nd_O-d"
      },
      "execution_count": null,
      "outputs": []
    }
  ],
  "metadata": {
    "colab": {
      "toc_visible": true,
      "provenance": [],
      "authorship_tag": "ABX9TyOoLUFBugX8zuGnsg1gQo74",
      "include_colab_link": true
    },
    "kernelspec": {
      "display_name": "Python 3",
      "name": "python3"
    },
    "language_info": {
      "name": "python"
    }
  },
  "nbformat": 4,
  "nbformat_minor": 0
}